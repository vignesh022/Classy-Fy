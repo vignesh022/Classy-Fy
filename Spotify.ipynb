{
 "cells": [
  {
   "cell_type": "code",
   "execution_count": 1,
   "metadata": {},
   "outputs": [],
   "source": [
    "import pandas as pd\n",
    "import numpy as np\n",
    "import spotipy \n",
    "sp = spotipy.Spotify() \n",
    "from spotipy.oauth2 import SpotifyClientCredentials \n",
    "cid ='96c23a48f808449f88bd8d8f44962e40' \n",
    "secret ='596d6b18cd104b79b9566e9776274c6d'"
   ]
  },
  {
   "cell_type": "code",
   "execution_count": 2,
   "metadata": {},
   "outputs": [],
   "source": [
    "client_credentials_manager = SpotifyClientCredentials(client_id=cid, client_secret=secret) \n",
    "sp = spotipy.Spotify(client_credentials_manager=client_credentials_manager) \n",
    "sp.trace=False\n",
    "\n",
    "# Getting all playlists under \"Focus\" and \"Party\" genres\n",
    "focus = (sp.category_playlists(category_id=\"focus\", country=\"US\", limit=50, offset=0))\n",
    "party = (sp.category_playlists(category_id=\"party\", country=\"US\", limit=50, offset=0))\n",
    "\n",
    "def playlist_ids(X):\n",
    "    playlist_uris = []\n",
    "    for i,ids in enumerate(X[\"playlists\"]['items']):\n",
    "        playlist_uris.append(ids[\"uri\"])\n",
    "    return playlist_uris\n",
    "\n",
    "party_uris = playlist_ids(party)\n",
    "focus_uris = playlist_ids(focus)"
   ]
  },
  {
   "cell_type": "code",
   "execution_count": 3,
   "metadata": {},
   "outputs": [],
   "source": [
    "def songs_database(playlist_uris):\n",
    "    songs_df = pd.DataFrame()\n",
    "    for uri in playlist_uris:\n",
    "        playlist = sp.user_playlist(\"spotify\",uri) \n",
    "        songs = playlist[\"tracks\"][\"items\"] \n",
    "        ids = []\n",
    "        song_names = []\n",
    "        song_artist = []\n",
    "        features = []\n",
    "        \n",
    "        for i in range(len(songs)): \n",
    "            ids.append(songs[i][\"track\"][\"id\"])\n",
    "            song_names.append(songs[i][\"track\"][\"name\"])\n",
    "            song_artist.append(songs[i][\"track\"][\"artists\"][0]['name'])\n",
    "            f = sp.audio_features(songs[i][\"track\"][\"id\"])\n",
    "            if(f != [None]):\n",
    "                features.append(f)\n",
    "        \n",
    "        df1 = pd.DataFrame(features)\n",
    "        df2 = pd.DataFrame()\n",
    "        df2[\"track_title\"] = song_names\n",
    "        df2[\"track_artist\"] = song_artist\n",
    "        df2[\"playlist_name\"] = playlist[\"name\"]\n",
    "        df3 = pd.concat([df2,df1], axis=1)\n",
    "        \n",
    "        if songs_df.empty:\n",
    "            songs_df = df3\n",
    "        else:\n",
    "            songs_df = pd.concat([songs_df,df3],axis=0,ignore_index=True)\n",
    "    \n",
    "    return songs_df"
   ]
  },
  {
   "cell_type": "code",
   "execution_count": 5,
   "metadata": {},
   "outputs": [
    {
     "data": {
      "text/html": [
       "<div>\n",
       "<style scoped>\n",
       "    .dataframe tbody tr th:only-of-type {\n",
       "        vertical-align: middle;\n",
       "    }\n",
       "\n",
       "    .dataframe tbody tr th {\n",
       "        vertical-align: top;\n",
       "    }\n",
       "\n",
       "    .dataframe thead th {\n",
       "        text-align: right;\n",
       "    }\n",
       "</style>\n",
       "<table border=\"1\" class=\"dataframe\">\n",
       "  <thead>\n",
       "    <tr style=\"text-align: right;\">\n",
       "      <th></th>\n",
       "      <th>track_title</th>\n",
       "      <th>track_artist</th>\n",
       "      <th>playlist_name</th>\n",
       "      <th>0</th>\n",
       "    </tr>\n",
       "  </thead>\n",
       "  <tbody>\n",
       "    <tr>\n",
       "      <th>0</th>\n",
       "      <td>Temperature</td>\n",
       "      <td>Sean Paul</td>\n",
       "      <td>Throwback Jams</td>\n",
       "      <td>{'danceability': 0.951, 'energy': 0.6, 'key': ...</td>\n",
       "    </tr>\n",
       "    <tr>\n",
       "      <th>1</th>\n",
       "      <td>This Is How We Do It</td>\n",
       "      <td>Montell Jordan</td>\n",
       "      <td>Throwback Jams</td>\n",
       "      <td>{'danceability': 0.799, 'energy': 0.623, 'key'...</td>\n",
       "    </tr>\n",
       "    <tr>\n",
       "      <th>2</th>\n",
       "      <td>Can't Nobody Hold Me Down (feat. Mase)</td>\n",
       "      <td>Diddy</td>\n",
       "      <td>Throwback Jams</td>\n",
       "      <td>{'danceability': 0.928, 'energy': 0.771, 'key'...</td>\n",
       "    </tr>\n",
       "    <tr>\n",
       "      <th>3</th>\n",
       "      <td>Back That Azz Up</td>\n",
       "      <td>Juvenile</td>\n",
       "      <td>Throwback Jams</td>\n",
       "      <td>{'danceability': 0.874, 'energy': 0.714, 'key'...</td>\n",
       "    </tr>\n",
       "    <tr>\n",
       "      <th>4</th>\n",
       "      <td>B.O.B. - Bombs Over Baghdad</td>\n",
       "      <td>OutKast</td>\n",
       "      <td>Throwback Jams</td>\n",
       "      <td>{'danceability': 0.746, 'energy': 0.978, 'key'...</td>\n",
       "    </tr>\n",
       "    <tr>\n",
       "      <th>...</th>\n",
       "      <td>...</td>\n",
       "      <td>...</td>\n",
       "      <td>...</td>\n",
       "      <td>...</td>\n",
       "    </tr>\n",
       "    <tr>\n",
       "      <th>2953</th>\n",
       "      <td>I'm A Rover</td>\n",
       "      <td>The Wild Rover</td>\n",
       "      <td>Irish Pub Songs</td>\n",
       "      <td>{'danceability': 0.756, 'energy': 0.67, 'key':...</td>\n",
       "    </tr>\n",
       "    <tr>\n",
       "      <th>2954</th>\n",
       "      <td>Paddle Me Own Canoe</td>\n",
       "      <td>Waxies Dargle</td>\n",
       "      <td>Irish Pub Songs</td>\n",
       "      <td>{'danceability': 0.589, 'energy': 0.702, 'key'...</td>\n",
       "    </tr>\n",
       "    <tr>\n",
       "      <th>2955</th>\n",
       "      <td>Kelly The Boy From Killane</td>\n",
       "      <td>The Fighting Men From Crossmaglen</td>\n",
       "      <td>Irish Pub Songs</td>\n",
       "      <td>{'danceability': 0.662, 'energy': 0.489, 'key'...</td>\n",
       "    </tr>\n",
       "    <tr>\n",
       "      <th>2956</th>\n",
       "      <td>The Rising Of The Moon</td>\n",
       "      <td>The High Kings</td>\n",
       "      <td>Irish Pub Songs</td>\n",
       "      <td>{'danceability': 0.453, 'energy': 0.716, 'key'...</td>\n",
       "    </tr>\n",
       "    <tr>\n",
       "      <th>2957</th>\n",
       "      <td>Song for Ireland</td>\n",
       "      <td>Luke Kelly</td>\n",
       "      <td>Irish Pub Songs</td>\n",
       "      <td>{'danceability': 0.241, 'energy': 0.231, 'key'...</td>\n",
       "    </tr>\n",
       "  </tbody>\n",
       "</table>\n",
       "<p>2958 rows × 4 columns</p>\n",
       "</div>"
      ],
      "text/plain": [
       "                                 track_title  \\\n",
       "0                                Temperature   \n",
       "1                       This Is How We Do It   \n",
       "2     Can't Nobody Hold Me Down (feat. Mase)   \n",
       "3                           Back That Azz Up   \n",
       "4                B.O.B. - Bombs Over Baghdad   \n",
       "...                                      ...   \n",
       "2953                             I'm A Rover   \n",
       "2954                     Paddle Me Own Canoe   \n",
       "2955              Kelly The Boy From Killane   \n",
       "2956                  The Rising Of The Moon   \n",
       "2957                        Song for Ireland   \n",
       "\n",
       "                           track_artist    playlist_name  \\\n",
       "0                             Sean Paul   Throwback Jams   \n",
       "1                        Montell Jordan   Throwback Jams   \n",
       "2                                 Diddy   Throwback Jams   \n",
       "3                              Juvenile   Throwback Jams   \n",
       "4                               OutKast   Throwback Jams   \n",
       "...                                 ...              ...   \n",
       "2953                     The Wild Rover  Irish Pub Songs   \n",
       "2954                      Waxies Dargle  Irish Pub Songs   \n",
       "2955  The Fighting Men From Crossmaglen  Irish Pub Songs   \n",
       "2956                     The High Kings  Irish Pub Songs   \n",
       "2957                         Luke Kelly  Irish Pub Songs   \n",
       "\n",
       "                                                      0  \n",
       "0     {'danceability': 0.951, 'energy': 0.6, 'key': ...  \n",
       "1     {'danceability': 0.799, 'energy': 0.623, 'key'...  \n",
       "2     {'danceability': 0.928, 'energy': 0.771, 'key'...  \n",
       "3     {'danceability': 0.874, 'energy': 0.714, 'key'...  \n",
       "4     {'danceability': 0.746, 'energy': 0.978, 'key'...  \n",
       "...                                                 ...  \n",
       "2953  {'danceability': 0.756, 'energy': 0.67, 'key':...  \n",
       "2954  {'danceability': 0.589, 'energy': 0.702, 'key'...  \n",
       "2955  {'danceability': 0.662, 'energy': 0.489, 'key'...  \n",
       "2956  {'danceability': 0.453, 'energy': 0.716, 'key'...  \n",
       "2957  {'danceability': 0.241, 'energy': 0.231, 'key'...  \n",
       "\n",
       "[2958 rows x 4 columns]"
      ]
     },
     "execution_count": 5,
     "metadata": {},
     "output_type": "execute_result"
    }
   ],
   "source": [
    "party_songs = songs_database(party_uris)\n",
    "party_songs"
   ]
  },
  {
   "cell_type": "code",
   "execution_count": 4,
   "metadata": {},
   "outputs": [
    {
     "ename": "NameError",
     "evalue": "name 'party_songs' is not defined",
     "output_type": "error",
     "traceback": [
      "\u001b[1;31m---------------------------------------------------------------------------\u001b[0m",
      "\u001b[1;31mNameError\u001b[0m                                 Traceback (most recent call last)",
      "\u001b[1;32m<ipython-input-4-f8670276637e>\u001b[0m in \u001b[0;36m<module>\u001b[1;34m\u001b[0m\n\u001b[1;32m----> 1\u001b[1;33m \u001b[0mparty_songs\u001b[0m\u001b[1;33m.\u001b[0m\u001b[0mto_csv\u001b[0m\u001b[1;33m(\u001b[0m\u001b[1;34m\"party_songs.csv\"\u001b[0m\u001b[1;33m,\u001b[0m\u001b[0mindex\u001b[0m\u001b[1;33m=\u001b[0m\u001b[1;32mFalse\u001b[0m\u001b[1;33m,\u001b[0m\u001b[0mheader\u001b[0m\u001b[1;33m=\u001b[0m\u001b[1;32mTrue\u001b[0m\u001b[1;33m)\u001b[0m\u001b[1;33m\u001b[0m\u001b[1;33m\u001b[0m\u001b[0m\n\u001b[0m",
      "\u001b[1;31mNameError\u001b[0m: name 'party_songs' is not defined"
     ]
    }
   ],
   "source": [
    "party_songs.to_csv(\"party_songs.csv\",index=False,header=True)"
   ]
  },
  {
   "cell_type": "code",
   "execution_count": null,
   "metadata": {},
   "outputs": [],
   "source": [
    "focus_songs = songs_database(focus_uris)\n",
    "focus_songs"
   ]
  },
  {
   "cell_type": "code",
   "execution_count": null,
   "metadata": {},
   "outputs": [],
   "source": [
    "focus_songs.to_csv(\"focus_songs.csv\",index = False, header=True)"
   ]
  },
  {
   "cell_type": "code",
   "execution_count": null,
   "metadata": {},
   "outputs": [],
   "source": [
    "focus_songs[\"time_signature\"].value_counts()"
   ]
  },
  {
   "cell_type": "code",
   "execution_count": null,
   "metadata": {},
   "outputs": [],
   "source": [
    "party_songs[\"time_signature\"].value_counts()"
   ]
  },
  {
   "cell_type": "code",
   "execution_count": null,
   "metadata": {},
   "outputs": [],
   "source": [
    "pcorr = party_songs[['danceability','energy', 'loudness', 'acousticness','instrumentalness', 'liveness']].corr()\n",
    "pcorr"
   ]
  },
  {
   "cell_type": "code",
   "execution_count": null,
   "metadata": {},
   "outputs": [],
   "source": [
    "import seaborn as sns\n",
    "import matplotlib.pyplot as plt\n",
    "\n",
    "party_c = plt.figure()\n",
    "plt.figure(figsize = (8,8))\n",
    "# mask = np.zeros_like(party_songs.corr())\n",
    "# mask[np.triu_indices_from(mask)] = True\n",
    "sns.heatmap(pcorr,cmap=\"RdBu_r\", square=True, vmin=-1, vmax=1)\n",
    "plt.title('Correlation matrix for Party songs')\n",
    "plt.show()\n",
    "\n",
    "party_c.savefig(\"party_corr.png\", bbox_inches='tight', dpi=300)"
   ]
  },
  {
   "cell_type": "code",
   "execution_count": null,
   "metadata": {},
   "outputs": [],
   "source": [
    "fcorr = focus_songs[['danceability','energy', 'loudness', 'acousticness','instrumentalness', 'liveness']].corr()\n",
    "fcorr"
   ]
  },
  {
   "cell_type": "code",
   "execution_count": null,
   "metadata": {},
   "outputs": [],
   "source": [
    "focus_c = plt.figure()\n",
    "plt.figure(figsize = (8,8))\n",
    "# mask2 = np.zeros_like(fcorr)\n",
    "# mask2[np.triu_indices_from(mask2)] = True\n",
    "sns.heatmap(fcorr,cmap=\"RdBu_r\",square=True, vmin=-1, vmax=1)\n",
    "plt.title('Correlation matrix for Focus songs')\n",
    "plt.show()\n",
    "\n",
    "focus_c.savefig(\"focus_corr.png\", dpi=300)"
   ]
  },
  {
   "cell_type": "code",
   "execution_count": null,
   "metadata": {},
   "outputs": [],
   "source": [
    "train_cols = ['danceability','energy', 'key', 'loudness', 'speechiness', 'acousticness',\n",
    "              'instrumentalness', 'liveness', 'valence', 'tempo', 'duration_ms']\n",
    "target_cols = \"genre_class\""
   ]
  },
  {
   "cell_type": "code",
   "execution_count": null,
   "metadata": {},
   "outputs": [],
   "source": [
    "party_songs[target_cols] = 0\n",
    "#party_songs\n",
    "focus_songs[target_cols] = 1\n",
    "#focus_songs"
   ]
  },
  {
   "cell_type": "code",
   "execution_count": null,
   "metadata": {
    "scrolled": true
   },
   "outputs": [],
   "source": [
    "complete_songs = pd.concat([party_songs,focus_songs],axis=0)\n",
    "complete_songs = complete_songs.sample(frac=1).reset_index(drop=True)\n",
    "#complete_songs"
   ]
  },
  {
   "cell_type": "code",
   "execution_count": null,
   "metadata": {
    "scrolled": true
   },
   "outputs": [],
   "source": [
    "features = complete_songs[train_cols]\n",
    "target = complete_songs[\"genre_class\"]\n",
    "type(target)"
   ]
  },
  {
   "cell_type": "code",
   "execution_count": null,
   "metadata": {},
   "outputs": [],
   "source": [
    "party_features_mean = party_songs[train_cols].mean()\n",
    "focus_features_mean = focus_songs[train_cols].mean()\n",
    "party_features_mean[\"duration_ms\"] = party_features_mean[\"duration_ms\"]/1000\n",
    "focus_features_mean[\"duration_ms\"] = focus_features_mean[\"duration_ms\"]/1000\n",
    "party_features_mean2 = (np.log(party_features_mean))\n",
    "focus_features_mean2 = (np.log(focus_features_mean))\n",
    "\n",
    "party_features_mean2 = party_features_mean2.drop([\"loudness\"])\n",
    "focus_features_mean2 = focus_features_mean2.drop([\"loudness\"])\n",
    "\n",
    "f = plt.figure()\n",
    "#plt.style.use('fivethirtyeight')\n",
    "party_features_mean2.plot.bar(color = 'r', align = 'center', label = 'Party', width = .25)\n",
    "focus_features_mean2.plot.bar(color = 'b', align = 'edge', label = 'Focus', width = .25,\n",
    "                         rot = 90, figsize = (8,8))\n",
    "\n",
    "plt.title('Comparing Genre features: Party vs Focus', y = 1.1)\n",
    "plt.ylim(-3,6)\n",
    "plt.yticks(np.arange(0,5.1,.5))\n",
    "plt.ylabel('Normalized Features')\n",
    "plt.legend(loc=\"upper center\")\n",
    "plt.show()\n",
    "\n",
    "f.savefig(\"bar_chart.png\", bbox_inches='tight', dpi=300)"
   ]
  },
  {
   "cell_type": "code",
   "execution_count": null,
   "metadata": {},
   "outputs": [],
   "source": [
    "from sklearn.model_selection import train_test_split\n",
    "\n",
    "X_train, X_test, y_train, y_test = train_test_split(features, target, test_size=0.2, random_state=1)\n",
    "y_test = y_test.reset_index(drop=True)\n",
    "y_test"
   ]
  },
  {
   "cell_type": "code",
   "execution_count": null,
   "metadata": {
    "scrolled": true
   },
   "outputs": [],
   "source": [
    "from sklearn.linear_model import LogisticRegression\n",
    "\n",
    "logit_reg = LogisticRegression(solver='liblinear')\n",
    "logit_reg.fit(X_train, y_train)\n",
    "predictions = logit_reg.predict(X_test)\n",
    "predictions = pd.Series(predictions)\n",
    "predictions"
   ]
  },
  {
   "cell_type": "code",
   "execution_count": null,
   "metadata": {},
   "outputs": [],
   "source": [
    "# False positives.\n",
    "fp_filter = (predictions == 1) & (y_test == 0)\n",
    "fp = len(predictions[fp_filter])\n",
    "\n",
    "# True positives.\n",
    "tp_filter = (predictions == 1) & (y_test == 1)\n",
    "tp = len(predictions[tp_filter])\n",
    "\n",
    "# False negatives.\n",
    "fn_filter = (predictions == 0) & (y_test == 1)\n",
    "fn = len(predictions[fn_filter])\n",
    "\n",
    "# True negatives\n",
    "tn_filter = (predictions == 0) & (y_test == 0)\n",
    "tn = len(predictions[tn_filter])\n",
    "# Rates\n",
    "tpr = tp  / (tp + fn)\n",
    "fpr = fp  / (fp + tn)\n",
    "precision = tp/(tp+fp)\n",
    "\n",
    "print(\"Recall:\",tpr)\n",
    "print(\"False Positive Rate:\",fpr)\n",
    "print(\"Precision:\",precision)"
   ]
  },
  {
   "cell_type": "code",
   "execution_count": null,
   "metadata": {},
   "outputs": [],
   "source": [
    "# Feature importance\n",
    "importance = logit_reg.coef_[0]\n",
    "\n",
    "# summarize feature importance\n",
    "for i,v in enumerate(importance):\n",
    "    print('Feature: %0d, Score: %.5f' % (i,v))\n",
    "# plot feature importance\n",
    "plt.bar([x for x in range(len(importance))], importance)\n",
    "plt.show()"
   ]
  },
  {
   "cell_type": "code",
   "execution_count": null,
   "metadata": {},
   "outputs": [],
   "source": [
    "from sklearn.metrics import roc_curve\n",
    "from sklearn.metrics import roc_auc_score\n",
    "\n",
    "# predict probabilities\n",
    "class_probs = logit_reg.predict_proba(X_test)\n",
    "\n",
    "# keep probabilities for the positive outcome only\n",
    "class_probs = class_probs[:, 1]\n",
    "\n",
    "# calculate scores\n",
    "lr_auc = roc_auc_score(y_test, class_probs)\n",
    "\n",
    "# summarize scores\n",
    "print('Logistic: ROC AUC=%.3f' % (lr_auc))\n",
    "\n",
    "# calculate roc curves\n",
    "lr_fpr, lr_tpr, _ = roc_curve(y_test, class_probs)\n",
    "\n",
    "# plot the roc curve for the model\n",
    "roc_fig = plt.figure()\n",
    "plt.plot(lr_fpr, lr_tpr, marker='.', label='Logistic')\n",
    "plt.plot([0, 1], [0, 1],'r--')\n",
    "# plt.xlim([0, 1])\n",
    "# plt.ylim([0, 1])\n",
    "# axis labels\n",
    "plt.xlabel('False Positive Rate')\n",
    "plt.ylabel('True Positive Rate')\n",
    "# show the legend\n",
    "plt.legend()\n",
    "# show the plot\n",
    "plt.show()\n",
    "\n",
    "roc_fig.savefig(\"ROC.png\", bbox_inches='tight', dpi=600)"
   ]
  },
  {
   "cell_type": "code",
   "execution_count": null,
   "metadata": {},
   "outputs": [],
   "source": [
    "from sklearn.metrics import precision_recall_curve\n",
    "from sklearn.metrics import f1_score\n",
    "from sklearn.metrics import auc\n",
    "\n",
    "# predict class values\n",
    "lr_precision, lr_recall, _ = precision_recall_curve(y_test, class_probs)\n",
    "lr_f1, lr_auc = f1_score(y_test, predictions), auc(lr_recall, lr_precision)\n",
    "\n",
    "# summarize scores\n",
    "print('Logistic: f1=%.3f auc=%.3f' % (lr_f1, lr_auc))\n",
    "\n",
    "# plot the precision-recall curves\n",
    "auc_fig = plt.figure()\n",
    "plt.plot(lr_recall, lr_precision, marker='.', label='Logistic')\n",
    "\n",
    "# axis labels\n",
    "plt.xlabel('Recall')\n",
    "plt.ylabel('Precision')\n",
    "\n",
    "# show the legend\n",
    "plt.legend()\n",
    "# show the plot\n",
    "plt.show()\n",
    "auc_fig.savefig(\"auC.png\", bbox_inches='tight', dpi=600)"
   ]
  },
  {
   "cell_type": "code",
   "execution_count": null,
   "metadata": {},
   "outputs": [],
   "source": [
    "import pickle\n",
    "\n",
    "# saving the model to disk\n",
    "filename = 'final_logit_model.sav'\n",
    "pickle.dump(logit_reg, open(filename, 'wb'))"
   ]
  },
  {
   "cell_type": "code",
   "execution_count": null,
   "metadata": {},
   "outputs": [],
   "source": [
    "from sklearn.model_selection import cross_val_predict\n",
    "\n",
    "logit_reg = LogisticRegression(solver='liblinear')\n",
    "predictions = cross_val_predict(logit_reg, features, target, cv=5)\n",
    "predictions = pd.Series(predictions)\n",
    "predictions.value_counts()"
   ]
  },
  {
   "cell_type": "code",
   "execution_count": null,
   "metadata": {},
   "outputs": [],
   "source": [
    "# False positives.\n",
    "fp_filter = (predictions == 1) & (complete_songs[\"genre_class\"] == 0)\n",
    "fp = len(predictions[fp_filter])\n",
    "\n",
    "# True positives.\n",
    "tp_filter = (predictions == 1) & (complete_songs[\"genre_class\"] == 1)\n",
    "tp = len(predictions[tp_filter])\n",
    "\n",
    "# False negatives.\n",
    "fn_filter = (predictions == 0) & (complete_songs[\"genre_class\"] == 1)\n",
    "fn = len(predictions[fn_filter])\n",
    "\n",
    "# True negatives\n",
    "tn_filter = (predictions == 0) & (complete_songs[\"genre_class\"] == 0)\n",
    "tn = len(predictions[tn_filter])\n",
    "# Rates\n",
    "tpr = tp  / (tp + fn)\n",
    "fpr = fp  / (fp + tn)\n",
    "precision = tp/(tp+fp)\n",
    "\n",
    "print(\"Recall:\",tpr)\n",
    "print(\"False Positive Rate:\",fpr)\n",
    "print(\"Precision:\",precision)"
   ]
  },
  {
   "cell_type": "code",
   "execution_count": null,
   "metadata": {},
   "outputs": [],
   "source": [
    "# predict probabilities\n",
    "class_probs = cross_val_predict(logit_reg, features, target, cv=5,method=\"predict_proba\")\n",
    "\n",
    "# keep probabilities for the positive outcome only\n",
    "class_probs = class_probs[:, 1]\n",
    "\n",
    "# calculate scores\n",
    "lr_auc = roc_auc_score(target, class_probs)\n",
    "\n",
    "# summarize scores\n",
    "print('Logistic: ROC AUC=%.3f' % (lr_auc))\n",
    "\n",
    "# calculate roc curves\n",
    "lr_fpr, lr_tpr, _ = roc_curve(target, class_probs)\n",
    "\n",
    "# plot the roc curve for the model\n",
    "plt.plot(lr_fpr, lr_tpr, marker='.', label='Logistic')\n",
    "plt.plot([0, 1], [0, 1],'r--')\n",
    "# plt.xlim([0, 1])\n",
    "# plt.ylim([0, 1])\n",
    "# axis labels\n",
    "plt.xlabel('False Positive Rate')\n",
    "plt.ylabel('True Positive Rate')\n",
    "# show the legend\n",
    "plt.legend()\n",
    "# show the plot\n",
    "plt.show()"
   ]
  },
  {
   "cell_type": "code",
   "execution_count": null,
   "metadata": {},
   "outputs": [],
   "source": [
    "# predict class values\n",
    "predictions = cross_val_predict(logit_reg, features, target, cv=5)\n",
    "lr_precision, lr_recall, _ = precision_recall_curve(target, class_probs)\n",
    "lr_f1, lr_auc = f1_score(target, predictions), auc(lr_recall, lr_precision)\n",
    "\n",
    "# summarize scores\n",
    "print('Logistic: f1=%.3f auc=%.3f' % (lr_f1, lr_auc))\n",
    "\n",
    "# plot the precision-recall curves\n",
    "plt.plot(lr_recall, lr_precision, marker='.', label='Logistic')\n",
    "\n",
    "# axis labels\n",
    "plt.xlabel('Recall')\n",
    "plt.ylabel('Precision')\n",
    "\n",
    "# show the legend\n",
    "plt.legend()\n",
    "# show the plot\n",
    "plt.show()"
   ]
  },
  {
   "cell_type": "code",
   "execution_count": null,
   "metadata": {},
   "outputs": [],
   "source": []
  }
 ],
 "metadata": {
  "kernelspec": {
   "display_name": "Python 3",
   "language": "python",
   "name": "python3"
  },
  "language_info": {
   "codemirror_mode": {
    "name": "ipython",
    "version": 3
   },
   "file_extension": ".py",
   "mimetype": "text/x-python",
   "name": "python",
   "nbconvert_exporter": "python",
   "pygments_lexer": "ipython3",
   "version": "3.7.7"
  }
 },
 "nbformat": 4,
 "nbformat_minor": 2
}
