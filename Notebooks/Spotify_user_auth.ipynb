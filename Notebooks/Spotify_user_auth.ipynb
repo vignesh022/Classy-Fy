{
 "cells": [
  {
   "cell_type": "code",
   "execution_count": 1,
   "metadata": {},
   "outputs": [],
   "source": [
    "import sys\n",
    "import pandas as pd\n",
    "import numpy as np\n",
    "import spotipy\n",
    "import spotipy.util as util\n",
    "sp = spotipy.Spotify() \n",
    "from spotipy.oauth2 import SpotifyClientCredentials \n",
    "cid ='Enter your CLIENT_ID here' \n",
    "secret ='Enter your CLIENT_SECRET here' \n",
    "redirect_uri='http://localhost:8501/'"
   ]
  },
  {
   "cell_type": "code",
   "execution_count": 3,
   "metadata": {
    "scrolled": true
   },
   "outputs": [
    {
     "name": "stdout",
     "output_type": "stream",
     "text": [
      "worked\n",
      "worked\n",
      "Playlist name: Dance Hits\n",
      "Playlist name: Rock Classics\n",
      "Playlist name: Work From Home\n",
      "Playlist name: Get Turnt\n",
      "Playlist name: Deep Focus\n"
     ]
    }
   ],
   "source": [
    "client_credentials_manager = SpotifyClientCredentials(client_id=cid, client_secret=secret) \n",
    "#sp = spotipy.Spotify(client_credentials_manager=client_credentials_manager) \n",
    "#sp.trace=False\n",
    "scope = 'user-library-read playlist-read-private'\n",
    "\n",
    "user_name = \"dummy\"\n",
    "\n",
    "## \n",
    "token = util.prompt_for_user_token(user_name, scope,client_id=cid, client_secret=secret, redirect_uri=redirect_uri,show_dialog=True) \n",
    "    \n",
    "# if token:\n",
    "#     sp = spotipy.Spotify(auth=token)\n",
    "#     current_user = sp.current_user()\n",
    "#     username = current_user[\"display_name\"]\n",
    "#     playlists = sp.user_playlists(username)\n",
    "#     playlist_uris = []\n",
    "#     playlist_labels = {}\n",
    "#     count=0\n",
    "#     for playlist in playlists['items']:\n",
    "#         pl_name = playlist['name']\n",
    "#         playlist_uris.append(playlist[\"id\"])\n",
    "#         playlist_labels[pl_name] = count\n",
    "#         print(\"Playlist name: {}\".format(pl_name))\n",
    "#         count+=1\n",
    "# else:\n",
    "#     print(\"Can't get token for\", username)\n",
    "\n",
    "uri_list = \"test\"\n",
    "\n",
    "if(uri_list):\n",
    "    print('worked')\n",
    "    if token:\n",
    "        print('worked')\n",
    "        sp = spotipy.Spotify(auth=token)\n",
    "        current_user = sp.current_user()\n",
    "        username = current_user[\"display_name\"]\n",
    "        playlists = sp.user_playlists(username)\n",
    "        playlist_uris = []\n",
    "        playlist_labels = {}\n",
    "        count=0\n",
    "        for playlist in playlists['items']:\n",
    "            pl_name = playlist['name']\n",
    "            playlist_uris.append(playlist[\"id\"])\n",
    "            playlist_labels[pl_name] = count\n",
    "            print(\"Playlist name: {}\".format(pl_name))\n",
    "            count+=1\n",
    "    else:\n",
    "        print(\"Can't get token for\", username)"
   ]
  },
  {
   "cell_type": "code",
   "execution_count": null,
   "metadata": {},
   "outputs": [],
   "source": [
    "playlist_labels"
   ]
  },
  {
   "cell_type": "code",
   "execution_count": null,
   "metadata": {},
   "outputs": [],
   "source": [
    "playlist_uris"
   ]
  },
  {
   "cell_type": "code",
   "execution_count": null,
   "metadata": {},
   "outputs": [],
   "source": [
    "inv_map = {v: k for k, v in playlist_labels.items()}"
   ]
  },
  {
   "cell_type": "code",
   "execution_count": null,
   "metadata": {},
   "outputs": [],
   "source": [
    "def songs_database(playlist_uris):\n",
    "    songs_df = pd.DataFrame()\n",
    "    for uri in playlist_uris:\n",
    "        playlist = sp.user_playlist(\"spotify\",uri) \n",
    "        songs = playlist[\"tracks\"][\"items\"] \n",
    "        ids = []\n",
    "        song_names = []\n",
    "        song_artist = []\n",
    "        \n",
    "        for i in range(len(songs)): \n",
    "            ids.append(songs[i][\"track\"][\"id\"])\n",
    "            song_names.append(songs[i][\"track\"][\"name\"])\n",
    "            song_artist.append(songs[i][\"track\"][\"artists\"][0]['name'])\n",
    "        features = sp.audio_features(ids)\n",
    "        df1 = pd.DataFrame()\n",
    "        for each in features:\n",
    "            if(each != None):\n",
    "                d = pd.DataFrame(each,index=[0])\n",
    "            df1 = df1.append(d,ignore_index=True)\n",
    "        df2 = pd.DataFrame()\n",
    "        df2[\"track_title\"] = song_names\n",
    "        df2[\"track_artist\"] = song_artist\n",
    "        df2[\"playlist_name\"] = playlist[\"name\"]\n",
    "        df3 = pd.concat([df2,df1], axis=1)\n",
    "        \n",
    "        if songs_df.empty:\n",
    "            songs_df = df3\n",
    "        else:\n",
    "            songs_df = pd.concat([songs_df,df3],axis=0,ignore_index=True)\n",
    "    \n",
    "    return songs_df"
   ]
  },
  {
   "cell_type": "code",
   "execution_count": null,
   "metadata": {},
   "outputs": [],
   "source": [
    "user_songs = songs_database(playlist_uris)"
   ]
  },
  {
   "cell_type": "code",
   "execution_count": null,
   "metadata": {
    "scrolled": true
   },
   "outputs": [],
   "source": [
    "user_songs"
   ]
  },
  {
   "cell_type": "code",
   "execution_count": null,
   "metadata": {},
   "outputs": [],
   "source": [
    "user_songs[\"label_id\"] = user_songs[\"playlist_name\"].map(playlist_labels)"
   ]
  },
  {
   "cell_type": "code",
   "execution_count": null,
   "metadata": {
    "scrolled": true
   },
   "outputs": [],
   "source": [
    "user_songs"
   ]
  },
  {
   "cell_type": "code",
   "execution_count": null,
   "metadata": {},
   "outputs": [],
   "source": [
    "from sklearn.model_selection import train_test_split\n",
    "from sklearn.preprocessing import MinMaxScaler\n",
    "scaler = MinMaxScaler()\n",
    "from sklearn import metrics"
   ]
  },
  {
   "cell_type": "code",
   "execution_count": null,
   "metadata": {},
   "outputs": [],
   "source": [
    "## Modified K-Means ##\n",
    "def cluster_centroids(X):\n",
    "    return((X.mean()))\n",
    "\n",
    "playlist_clusters = {}\n",
    "features = user_songs.sample(frac=1).reset_index(drop=True)\n",
    "train_cols = ['danceability','energy', 'key', 'loudness', 'speechiness', 'acousticness',\n",
    "              'instrumentalness', 'liveness', 'valence', 'tempo', 'duration_ms']\n",
    "target_cols = \"label_id\"\n",
    "result_cols = [\"track_title\",\"track_artist\"]\n",
    "target = features[target_cols]\n",
    "\n",
    "# Split dataset into training set and test set\n",
    "X_train, X_test, y_train, y_test = train_test_split(features, target, test_size=0.25, random_state=1)\n",
    "y_test = y_test.reset_index(drop=True)\n",
    "\n",
    "for each in playlist_labels:\n",
    "    temp = pd.DataFrame()\n",
    "    temp = X_train[X_train[\"playlist_name\"] == each]\n",
    "    temp2 = pd.DataFrame(scaler.fit_transform(temp[train_cols]))\n",
    "    playlist_clusters[each] = cluster_centroids(temp2)\n",
    "\n",
    "playlist_clusters = pd.DataFrame.from_dict(playlist_clusters, orient='index')\n",
    "playlist_clusters"
   ]
  },
  {
   "cell_type": "code",
   "execution_count": null,
   "metadata": {},
   "outputs": [],
   "source": [
    "X_test_scaled = pd.DataFrame(scaler.fit_transform(X_test[train_cols]))\n",
    "X_test_scaled"
   ]
  },
  {
   "cell_type": "code",
   "execution_count": null,
   "metadata": {},
   "outputs": [],
   "source": [
    "def distances(X):\n",
    "    X = np.array(X)\n",
    "    df = pd.DataFrame(index=playlist_clusters.index.copy())\n",
    "    for index,each in playlist_clusters.iterrows():\n",
    "        Y = np.array(each)\n",
    "        distance = np.linalg.norm(X - Y)\n",
    "        df.loc[index,\"distance\"] = distance \n",
    "    return (df.idxmin(axis = 0)[0])\n",
    "\n",
    "predictions = []\n",
    "\n",
    "for index,song in X_test_scaled.iterrows():\n",
    "    predictions.append(distances(song))\n",
    "    \n",
    "predictions = pd.Series(predictions)\n",
    "predictions = predictions.rename(\"assigned_playlist\")\n",
    "y_pred = predictions.map(playlist_labels)\n",
    "print(predictions)"
   ]
  },
  {
   "cell_type": "code",
   "execution_count": null,
   "metadata": {},
   "outputs": [],
   "source": [
    "count=0\n",
    "for i in range(len(y_pred)):\n",
    "    if(y_pred[i] == y_test[i]):\n",
    "        count+=1\n",
    "acc = count/len(y_pred)\n",
    "print(\"Accuracy: \",acc)"
   ]
  },
  {
   "cell_type": "code",
   "execution_count": null,
   "metadata": {},
   "outputs": [],
   "source": [
    "X_final = X_test[result_cols]\n",
    "X_final = X_final.reset_index(drop=True)\n",
    "songs_result = pd.concat([X_final,predictions],axis=1,)\n",
    "songs_result"
   ]
  },
  {
   "cell_type": "code",
   "execution_count": null,
   "metadata": {},
   "outputs": [],
   "source": [
    "playlist_clusters.columns = train_cols\n",
    "polarplot = playlist_clusters.to_dict(\"index\")\n",
    "len(polarplot)"
   ]
  },
  {
   "cell_type": "code",
   "execution_count": null,
   "metadata": {},
   "outputs": [],
   "source": [
    "# from math import pi\n",
    "import matplotlib.pyplot as plt\n",
    "%matplotlib inline\n",
    "\n",
    "N = len(train_cols)\n",
    "angles = [n / float(N) * 2 * pi for n in range(N)]\n",
    "angles += angles[:1]\n",
    "\n",
    "fig = plt.figure(figsize=(10,10))\n",
    "ax = plt.subplot(111, polar=True)\n",
    "ax.set_theta_offset(pi)\n",
    "ax.set_theta_direction(1)\n",
    "\n",
    "ax.spines[\"polar\"].set_visible(False)\n",
    "\n",
    "plt.xticks(angles, train_cols)\n",
    "\n",
    "ax.set_rlabel_position(-180)\n",
    "plt.yticks([0, 0.5, 1], [\"0\", \"0.5\",\"1\"], color=\"grey\", size=7)\n",
    "plt.ylim(0, 1)\n",
    "\n",
    "# Ind1\n",
    "for i, key in enumerate(polarplot.keys()):\n",
    "    if i <len(polarplot):\n",
    "        values=list(playlist_clusters.iloc[i])\n",
    "        print(values)\n",
    "        values += values[:1]\n",
    "        ax.plot(angles, values, linewidth=1, linestyle='solid', label=key)\n",
    " \n",
    "# Add legend\n",
    "plt.legend(bbox_to_anchor=(0.1, 0.1))\n",
    "plt.show()\n",
    "fig.savefig(\"5 playlist validation.png\",dpi=300)"
   ]
  },
  {
   "cell_type": "code",
   "execution_count": null,
   "metadata": {},
   "outputs": [],
   "source": [
    "# Removing access token once all operations are completed and user is required to login again\n",
    "\n",
    "import os\n",
    "filename = \".cache-%s\" % user_name\n",
    "#print(filename)\n",
    "if os.path.exists(filename):\n",
    "    os.remove(filename)\n",
    "    #print(\"file removed\")\n",
    "else:\n",
    "    print(\"The file does not exist\")"
   ]
  },
  {
   "cell_type": "code",
   "execution_count": null,
   "metadata": {},
   "outputs": [],
   "source": []
  }
 ],
 "metadata": {
  "kernelspec": {
   "display_name": "Python 3",
   "language": "python",
   "name": "python3"
  },
  "language_info": {
   "codemirror_mode": {
    "name": "ipython",
    "version": 3
   },
   "file_extension": ".py",
   "mimetype": "text/x-python",
   "name": "python",
   "nbconvert_exporter": "python",
   "pygments_lexer": "ipython3",
   "version": "3.7.7"
  }
 },
 "nbformat": 4,
 "nbformat_minor": 4
}
